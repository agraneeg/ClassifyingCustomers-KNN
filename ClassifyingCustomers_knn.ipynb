{
 "cells": [
  {
   "cell_type": "code",
   "execution_count": 55,
   "id": "a1fe3e04-a02f-4d91-b934-3a9fa9375c7e",
   "metadata": {},
   "outputs": [],
   "source": [
    "import pandas as pd\n",
    "import pickle\n",
    "import matplotlib.pyplot as plt\n",
    "import numpy as np"
   ]
  },
  {
   "cell_type": "code",
   "execution_count": 57,
   "id": "bc20f23d-ce45-419c-9917-679db376c7e3",
   "metadata": {},
   "outputs": [],
   "source": [
    "from sklearn.neighbors import KNeighborsClassifier\n",
    "from sklearn.utils import shuffle\n",
    "from sklearn.model_selection import train_test_split, cross_val_score, KFold\n",
    "from sklearn.metrics import confusion_matrix, accuracy_score, precision_score, recall_score, f1_score\n",
    "from sklearn.preprocessing import OneHotEncoder, MinMaxScaler\n",
    "from sklearn.feature_selection import RFECV"
   ]
  },
  {
   "cell_type": "code",
   "execution_count": 61,
   "id": "5d2f2b56-ed41-4a4a-8811-7c274d4cac29",
   "metadata": {
    "scrolled": true
   },
   "outputs": [
    {
     "name": "stdout",
     "output_type": "stream",
     "text": [
      "     customer_id  signup_flag  distance_from_store gender  credit_score  \\\n",
      "0             74            1                 3.38      F          0.59   \n",
      "1            524            1                 4.76      F          0.52   \n",
      "2            607            1                 4.45      F          0.49   \n",
      "3            343            0                 0.91      M          0.54   \n",
      "4            322            1                 3.02      F          0.63   \n",
      "..           ...          ...                  ...    ...           ...   \n",
      "855          372            1                 4.38      F          0.50   \n",
      "856          104            1                 2.36      F          0.63   \n",
      "857          393            1                 1.87      M          0.59   \n",
      "858          373            0                 0.21      M          0.47   \n",
      "859          712            0                 0.07      M          0.70   \n",
      "\n",
      "     total_sales  total_items  transaction_count  product_area_count  \\\n",
      "0        1586.89          195                 26                   5   \n",
      "1        2397.26          258                 27                   5   \n",
      "2        1279.91          183                 22                   5   \n",
      "3         967.14          102                 17                   5   \n",
      "4        1566.35          182                 30                   5   \n",
      "..           ...          ...                ...                 ...   \n",
      "855      1381.28          103                 12                   5   \n",
      "856      1464.62          127                 22                   5   \n",
      "857      2213.97          191                 38                   5   \n",
      "858      1446.00          133                 22                   5   \n",
      "859      1370.14          147                 24                   5   \n",
      "\n",
      "     average_basket_value  \n",
      "0               61.034231  \n",
      "1               88.787407  \n",
      "2               58.177727  \n",
      "3               56.890588  \n",
      "4               52.211667  \n",
      "..                    ...  \n",
      "855            115.106667  \n",
      "856             66.573636  \n",
      "857             58.262368  \n",
      "858             65.727273  \n",
      "859             57.089167  \n",
      "\n",
      "[860 rows x 10 columns]\n"
     ]
    }
   ],
   "source": [
    "# Import sample data\n",
    "# Import\n",
    "\n",
    "data_for_model = pd.read_pickle(r\"C:\\Users\\agran\\OneDrive\\Desktop\\abc_classification_modelling.p\")\n",
    "print(data_for_model)"
   ]
  },
  {
   "cell_type": "code",
   "execution_count": 63,
   "id": "10a5a3a5-23ed-4590-aaa7-03847d375199",
   "metadata": {},
   "outputs": [],
   "source": [
    "# Drop unecessary columns\n",
    "data_for_model.drop(\"customer_id\", axis =1, inplace = True)"
   ]
  },
  {
   "cell_type": "code",
   "execution_count": 65,
   "id": "193c6d11-e3c3-4894-8eac-7b7e6ca3375c",
   "metadata": {},
   "outputs": [
    {
     "data": {
      "text/html": [
       "<div>\n",
       "<style scoped>\n",
       "    .dataframe tbody tr th:only-of-type {\n",
       "        vertical-align: middle;\n",
       "    }\n",
       "\n",
       "    .dataframe tbody tr th {\n",
       "        vertical-align: top;\n",
       "    }\n",
       "\n",
       "    .dataframe thead th {\n",
       "        text-align: right;\n",
       "    }\n",
       "</style>\n",
       "<table border=\"1\" class=\"dataframe\">\n",
       "  <thead>\n",
       "    <tr style=\"text-align: right;\">\n",
       "      <th></th>\n",
       "      <th>signup_flag</th>\n",
       "      <th>distance_from_store</th>\n",
       "      <th>gender</th>\n",
       "      <th>credit_score</th>\n",
       "      <th>total_sales</th>\n",
       "      <th>total_items</th>\n",
       "      <th>transaction_count</th>\n",
       "      <th>product_area_count</th>\n",
       "      <th>average_basket_value</th>\n",
       "    </tr>\n",
       "  </thead>\n",
       "  <tbody>\n",
       "    <tr>\n",
       "      <th>0</th>\n",
       "      <td>1</td>\n",
       "      <td>3.38</td>\n",
       "      <td>F</td>\n",
       "      <td>0.59</td>\n",
       "      <td>1586.89</td>\n",
       "      <td>195</td>\n",
       "      <td>26</td>\n",
       "      <td>5</td>\n",
       "      <td>61.034231</td>\n",
       "    </tr>\n",
       "    <tr>\n",
       "      <th>1</th>\n",
       "      <td>1</td>\n",
       "      <td>4.76</td>\n",
       "      <td>F</td>\n",
       "      <td>0.52</td>\n",
       "      <td>2397.26</td>\n",
       "      <td>258</td>\n",
       "      <td>27</td>\n",
       "      <td>5</td>\n",
       "      <td>88.787407</td>\n",
       "    </tr>\n",
       "    <tr>\n",
       "      <th>2</th>\n",
       "      <td>1</td>\n",
       "      <td>4.45</td>\n",
       "      <td>F</td>\n",
       "      <td>0.49</td>\n",
       "      <td>1279.91</td>\n",
       "      <td>183</td>\n",
       "      <td>22</td>\n",
       "      <td>5</td>\n",
       "      <td>58.177727</td>\n",
       "    </tr>\n",
       "    <tr>\n",
       "      <th>3</th>\n",
       "      <td>0</td>\n",
       "      <td>0.91</td>\n",
       "      <td>M</td>\n",
       "      <td>0.54</td>\n",
       "      <td>967.14</td>\n",
       "      <td>102</td>\n",
       "      <td>17</td>\n",
       "      <td>5</td>\n",
       "      <td>56.890588</td>\n",
       "    </tr>\n",
       "    <tr>\n",
       "      <th>4</th>\n",
       "      <td>1</td>\n",
       "      <td>3.02</td>\n",
       "      <td>F</td>\n",
       "      <td>0.63</td>\n",
       "      <td>1566.35</td>\n",
       "      <td>182</td>\n",
       "      <td>30</td>\n",
       "      <td>5</td>\n",
       "      <td>52.211667</td>\n",
       "    </tr>\n",
       "    <tr>\n",
       "      <th>...</th>\n",
       "      <td>...</td>\n",
       "      <td>...</td>\n",
       "      <td>...</td>\n",
       "      <td>...</td>\n",
       "      <td>...</td>\n",
       "      <td>...</td>\n",
       "      <td>...</td>\n",
       "      <td>...</td>\n",
       "      <td>...</td>\n",
       "    </tr>\n",
       "    <tr>\n",
       "      <th>855</th>\n",
       "      <td>1</td>\n",
       "      <td>4.38</td>\n",
       "      <td>F</td>\n",
       "      <td>0.50</td>\n",
       "      <td>1381.28</td>\n",
       "      <td>103</td>\n",
       "      <td>12</td>\n",
       "      <td>5</td>\n",
       "      <td>115.106667</td>\n",
       "    </tr>\n",
       "    <tr>\n",
       "      <th>856</th>\n",
       "      <td>1</td>\n",
       "      <td>2.36</td>\n",
       "      <td>F</td>\n",
       "      <td>0.63</td>\n",
       "      <td>1464.62</td>\n",
       "      <td>127</td>\n",
       "      <td>22</td>\n",
       "      <td>5</td>\n",
       "      <td>66.573636</td>\n",
       "    </tr>\n",
       "    <tr>\n",
       "      <th>857</th>\n",
       "      <td>1</td>\n",
       "      <td>1.87</td>\n",
       "      <td>M</td>\n",
       "      <td>0.59</td>\n",
       "      <td>2213.97</td>\n",
       "      <td>191</td>\n",
       "      <td>38</td>\n",
       "      <td>5</td>\n",
       "      <td>58.262368</td>\n",
       "    </tr>\n",
       "    <tr>\n",
       "      <th>858</th>\n",
       "      <td>0</td>\n",
       "      <td>0.21</td>\n",
       "      <td>M</td>\n",
       "      <td>0.47</td>\n",
       "      <td>1446.00</td>\n",
       "      <td>133</td>\n",
       "      <td>22</td>\n",
       "      <td>5</td>\n",
       "      <td>65.727273</td>\n",
       "    </tr>\n",
       "    <tr>\n",
       "      <th>859</th>\n",
       "      <td>0</td>\n",
       "      <td>0.07</td>\n",
       "      <td>M</td>\n",
       "      <td>0.70</td>\n",
       "      <td>1370.14</td>\n",
       "      <td>147</td>\n",
       "      <td>24</td>\n",
       "      <td>5</td>\n",
       "      <td>57.089167</td>\n",
       "    </tr>\n",
       "  </tbody>\n",
       "</table>\n",
       "<p>860 rows × 9 columns</p>\n",
       "</div>"
      ],
      "text/plain": [
       "     signup_flag  distance_from_store gender  credit_score  total_sales  \\\n",
       "0              1                 3.38      F          0.59      1586.89   \n",
       "1              1                 4.76      F          0.52      2397.26   \n",
       "2              1                 4.45      F          0.49      1279.91   \n",
       "3              0                 0.91      M          0.54       967.14   \n",
       "4              1                 3.02      F          0.63      1566.35   \n",
       "..           ...                  ...    ...           ...          ...   \n",
       "855            1                 4.38      F          0.50      1381.28   \n",
       "856            1                 2.36      F          0.63      1464.62   \n",
       "857            1                 1.87      M          0.59      2213.97   \n",
       "858            0                 0.21      M          0.47      1446.00   \n",
       "859            0                 0.07      M          0.70      1370.14   \n",
       "\n",
       "     total_items  transaction_count  product_area_count  average_basket_value  \n",
       "0            195                 26                   5             61.034231  \n",
       "1            258                 27                   5             88.787407  \n",
       "2            183                 22                   5             58.177727  \n",
       "3            102                 17                   5             56.890588  \n",
       "4            182                 30                   5             52.211667  \n",
       "..           ...                ...                 ...                   ...  \n",
       "855          103                 12                   5            115.106667  \n",
       "856          127                 22                   5             66.573636  \n",
       "857          191                 38                   5             58.262368  \n",
       "858          133                 22                   5             65.727273  \n",
       "859          147                 24                   5             57.089167  \n",
       "\n",
       "[860 rows x 9 columns]"
      ]
     },
     "execution_count": 65,
     "metadata": {},
     "output_type": "execute_result"
    }
   ],
   "source": [
    "data_for_model"
   ]
  },
  {
   "cell_type": "code",
   "execution_count": 67,
   "id": "08282bf2-0e1c-4b40-9df3-3a77df46e24c",
   "metadata": {},
   "outputs": [],
   "source": [
    "# Shuffle data\n",
    "data_for_model = shuffle(data_for_model, random_state = 42)\n"
   ]
  },
  {
   "cell_type": "code",
   "execution_count": 69,
   "id": "2095fa6b-c6b3-4f08-b593-576c1452fe5f",
   "metadata": {},
   "outputs": [
    {
     "data": {
      "text/plain": [
       "signup_flag\n",
       "0    0.689535\n",
       "1    0.310465\n",
       "Name: proportion, dtype: float64"
      ]
     },
     "execution_count": 69,
     "metadata": {},
     "output_type": "execute_result"
    }
   ],
   "source": [
    "# Class Balance\n",
    "data_for_model[\"signup_flag\"].value_counts(normalize  = True)"
   ]
  },
  {
   "cell_type": "code",
   "execution_count": 71,
   "id": "6ce30b89-ca32-40c0-81ff-6bf1c16060e3",
   "metadata": {},
   "outputs": [
    {
     "data": {
      "text/plain": [
       "signup_flag             0\n",
       "distance_from_store     5\n",
       "gender                  5\n",
       "credit_score            8\n",
       "total_sales             0\n",
       "total_items             0\n",
       "transaction_count       0\n",
       "product_area_count      0\n",
       "average_basket_value    0\n",
       "dtype: int64"
      ]
     },
     "execution_count": 71,
     "metadata": {},
     "output_type": "execute_result"
    }
   ],
   "source": [
    "# Deal with Missing Values\n",
    "data_for_model.isna().sum()\n"
   ]
  },
  {
   "cell_type": "code",
   "execution_count": 73,
   "id": "7b7f5adc-2e57-4bd8-8bd8-92503d7375d3",
   "metadata": {},
   "outputs": [],
   "source": [
    "data_for_model.dropna(how = \"any\", inplace = True)"
   ]
  },
  {
   "cell_type": "code",
   "execution_count": 75,
   "id": "ac1f0437-49a8-4bef-94c4-3eb8d2c81684",
   "metadata": {},
   "outputs": [],
   "source": [
    "# Deal with outliers\n",
    "outlier_investigation = data_for_model.describe()\n",
    "outlier_columns = [\"distance_from_store\", \"total_sales\", \"total_items\"]"
   ]
  },
  {
   "cell_type": "code",
   "execution_count": 77,
   "id": "c66d888a-3654-42c5-a0b4-bcd1f295afa8",
   "metadata": {},
   "outputs": [
    {
     "name": "stdout",
     "output_type": "stream",
     "text": [
      "8 outliers detected in column distance_from_store\n",
      "54 outliers detected in column total_sales\n",
      "3 outliers detected in column total_items\n"
     ]
    }
   ],
   "source": [
    "# Boxplot approach\n",
    "for column in outlier_columns:\n",
    "    lower_quartile = data_for_model[column].quantile(0.25)\n",
    "    upper_quartile = data_for_model[column]. quantile(0.75)\n",
    "    iqr = upper_quartile - lower_quartile\n",
    "    iqr_extended = iqr*2\n",
    "    min_border = lower_quartile - iqr_extended\n",
    "    max_border = upper_quartile + iqr_extended\n",
    "    \n",
    "    outliers = data_for_model[(data_for_model[column]<min_border) | (data_for_model[column] > max_border)].index\n",
    "    print(f'{len(outliers)} outliers detected in column {column}')\n",
    "    \n",
    "    data_for_model.drop(outliers, inplace = True)"
   ]
  },
  {
   "cell_type": "code",
   "execution_count": 79,
   "id": "0e86e8b3-80a8-4d07-bb95-05bf3780dda3",
   "metadata": {},
   "outputs": [],
   "source": [
    "# Split Input Variables & Output Variables\n",
    "X = data_for_model.drop([\"signup_flag\"], axis = 1)\n",
    "y = data_for_model[\"signup_flag\"]"
   ]
  },
  {
   "cell_type": "code",
   "execution_count": 81,
   "id": "5dd61b49-a0ea-4da9-8e28-0e1587de3632",
   "metadata": {},
   "outputs": [
    {
     "data": {
      "text/plain": [
       "Index(['distance_from_store', 'gender', 'credit_score', 'total_sales',\n",
       "       'total_items', 'transaction_count', 'product_area_count',\n",
       "       'average_basket_value'],\n",
       "      dtype='object')"
      ]
     },
     "execution_count": 81,
     "metadata": {},
     "output_type": "execute_result"
    }
   ],
   "source": [
    "X.columns"
   ]
  },
  {
   "cell_type": "code",
   "execution_count": 83,
   "id": "32577d77-1c09-4fbb-9b55-5bd844d9399b",
   "metadata": {},
   "outputs": [],
   "source": [
    "# Split out traing and test sets\n",
    "X_train, X_test, y_train, y_test = train_test_split(X, y, test_size = 0.20, random_state = 42, stratify= y)"
   ]
  },
  {
   "cell_type": "code",
   "execution_count": 85,
   "id": "c7c4e52c-9505-4ad2-9238-0171e092afe4",
   "metadata": {},
   "outputs": [],
   "source": [
    "# Deal with Categorical Variables\n",
    "\n",
    "categorical_vars = [\"gender\"]\n",
    "one_hot_encoder = OneHotEncoder(sparse_output = False, drop = \"first\")\n",
    "\n",
    "X_train_encoded = one_hot_encoder.fit_transform(X_train[categorical_vars])\n",
    "X_test_encoded = one_hot_encoder.transform(X_test[categorical_vars])\n",
    "\n",
    "encoder_feature_names = one_hot_encoder.get_feature_names_out(categorical_vars)\n",
    "\n",
    "X_train_encoded = pd.DataFrame(X_train_encoded, columns = encoder_feature_names)\n",
    "X_train = pd.concat([X_train.reset_index(drop = True), X_train_encoded.reset_index(drop = True)], axis = 1)\n",
    "X_train.drop(categorical_vars, axis  = 1, inplace = True)\n",
    "\n",
    "X_test_encoded = pd.DataFrame(X_test_encoded, columns = encoder_feature_names)\n",
    "X_test = pd.concat([X_test.reset_index(drop= True), X_test_encoded.reset_index(drop = True)], axis = 1)\n",
    "X_test.drop(categorical_vars, axis = 1, inplace = True)"
   ]
  },
  {
   "cell_type": "code",
   "execution_count": 87,
   "id": "1ae7687f-5d74-4545-acee-5f9de2731e94",
   "metadata": {},
   "outputs": [],
   "source": [
    "# Feature scaling\n",
    "\n",
    "scale_norm = MinMaxScaler()\n",
    "X_train = pd.DataFrame(scale_norm.fit_transform(X_train), columns = X_train.columns)\n",
    "X_test = pd.DataFrame(scale_norm.transform(X_test), columns = X_test.columns)"
   ]
  },
  {
   "cell_type": "code",
   "execution_count": 89,
   "id": "312ff21f-a19f-4af4-a899-e3627fbc3244",
   "metadata": {},
   "outputs": [
    {
     "name": "stdout",
     "output_type": "stream",
     "text": [
      "Optimal number of features: 6\n"
     ]
    }
   ],
   "source": [
    "# Feature selection\n",
    "\n",
    "from sklearn.ensemble import RandomForestClassifier\n",
    "\n",
    "clf = RandomForestClassifier(random_state = 42)\n",
    "feature_selector = RFECV(clf)\n",
    "\n",
    "fit = feature_selector.fit(X_train, y_train)\n",
    "\n",
    "optimal_feature_count = feature_selector.n_features_\n",
    "print(f\"Optimal number of features: {optimal_feature_count}\")\n",
    "\n",
    "X_train = X_train.loc[:, feature_selector.get_support()]\n",
    "X_test = X_test.loc[:, feature_selector.get_support()]\n"
   ]
  },
  {
   "cell_type": "code",
   "execution_count": 99,
   "id": "c4401d25-68c7-4ecb-bb02-d41bebcd6e9c",
   "metadata": {},
   "outputs": [
    {
     "data": {
      "image/png": "[encoded data removed]",
      "text/plain": [
       "<Figure size 640x480 with 1 Axes>"
      ]
     },
     "metadata": {},
     "output_type": "display_data"
    }
   ],
   "source": [
    "plt.plot(range(1, len(fit.cv_results_[\"mean_test_score\"]) + 1), fit.cv_results_[\"mean_test_score\"], marker = \"o\")\n",
    "plt.ylabel(\"Model Score\")\n",
    "plt.xlabel(\"Number of Features\")\n",
    "plt.title(f\"Feature Selection using RFE \\n Optimal number of features is {optimal_feature_count} (at score of {round(max(fit.cv_results_['mean_test_score']), 4)})\")\n",
    "plt.tight_layout()\n",
    "plt.show()"
   ]
  },
  {
   "cell_type": "code",
   "execution_count": 101,
   "id": "ca2bb549-9adf-46cc-b3c6-e7d041cf22ed",
   "metadata": {},
   "outputs": [
    {
     "data": {
      "text/html": [
       "<style>#sk-container-id-1 {color: black;background-color: white;}#sk-container-id-1 pre{padding: 0;}#sk-container-id-1 div.sk-toggleable {background-color: white;}#sk-container-id-1 label.sk-toggleable__label {cursor: pointer;display: block;width: 100%;margin-bottom: 0;padding: 0.3em;box-sizing: border-box;text-align: center;}#sk-container-id-1 label.sk-toggleable__label-arrow:before {content: \"▸\";float: left;margin-right: 0.25em;color: #696969;}#sk-container-id-1 label.sk-toggleable__label-arrow:hover:before {color: black;}#sk-container-id-1 div.sk-estimator:hover label.sk-toggleable__label-arrow:before {color: black;}#sk-container-id-1 div.sk-toggleable__content {max-height: 0;max-width: 0;overflow: hidden;text-align: left;background-color: #f0f8ff;}#sk-container-id-1 div.sk-toggleable__content pre {margin: 0.2em;color: black;border-radius: 0.25em;background-color: #f0f8ff;}#sk-container-id-1 input.sk-toggleable__control:checked~div.sk-toggleable__content {max-height: 200px;max-width: 100%;overflow: auto;}#sk-container-id-1 input.sk-toggleable__control:checked~label.sk-toggleable__label-arrow:before {content: \"▾\";}#sk-container-id-1 div.sk-estimator input.sk-toggleable__control:checked~label.sk-toggleable__label {background-color: #d4ebff;}#sk-container-id-1 div.sk-label input.sk-toggleable__control:checked~label.sk-toggleable__label {background-color: #d4ebff;}#sk-container-id-1 input.sk-hidden--visually {border: 0;clip: rect(1px 1px 1px 1px);clip: rect(1px, 1px, 1px, 1px);height: 1px;margin: -1px;overflow: hidden;padding: 0;position: absolute;width: 1px;}#sk-container-id-1 div.sk-estimator {font-family: monospace;background-color: #f0f8ff;border: 1px dotted black;border-radius: 0.25em;box-sizing: border-box;margin-bottom: 0.5em;}#sk-container-id-1 div.sk-estimator:hover {background-color: #d4ebff;}#sk-container-id-1 div.sk-parallel-item::after {content: \"\";width: 100%;border-bottom: 1px solid gray;flex-grow: 1;}#sk-container-id-1 div.sk-label:hover label.sk-toggleable__label {background-color: #d4ebff;}#sk-container-id-1 div.sk-serial::before {content: \"\";position: absolute;border-left: 1px solid gray;box-sizing: border-box;top: 0;bottom: 0;left: 50%;z-index: 0;}#sk-container-id-1 div.sk-serial {display: flex;flex-direction: column;align-items: center;background-color: white;padding-right: 0.2em;padding-left: 0.2em;position: relative;}#sk-container-id-1 div.sk-item {position: relative;z-index: 1;}#sk-container-id-1 div.sk-parallel {display: flex;align-items: stretch;justify-content: center;background-color: white;position: relative;}#sk-container-id-1 div.sk-item::before, #sk-container-id-1 div.sk-parallel-item::before {content: \"\";position: absolute;border-left: 1px solid gray;box-sizing: border-box;top: 0;bottom: 0;left: 50%;z-index: -1;}#sk-container-id-1 div.sk-parallel-item {display: flex;flex-direction: column;z-index: 1;position: relative;background-color: white;}#sk-container-id-1 div.sk-parallel-item:first-child::after {align-self: flex-end;width: 50%;}#sk-container-id-1 div.sk-parallel-item:last-child::after {align-self: flex-start;width: 50%;}#sk-container-id-1 div.sk-parallel-item:only-child::after {width: 0;}#sk-container-id-1 div.sk-dashed-wrapped {border: 1px dashed gray;margin: 0 0.4em 0.5em 0.4em;box-sizing: border-box;padding-bottom: 0.4em;background-color: white;}#sk-container-id-1 div.sk-label label {font-family: monospace;font-weight: bold;display: inline-block;line-height: 1.2em;}#sk-container-id-1 div.sk-label-container {text-align: center;}#sk-container-id-1 div.sk-container {/* jupyter's `normalize.less` sets `[hidden] { display: none; }` but bootstrap.min.css set `[hidden] { display: none !important; }` so we also need the `!important` here to be able to override the default hidden behavior on the sphinx rendered scikit-learn.org. See: https://github.com/scikit-learn/scikit-learn/issues/21755 */display: inline-block !important;position: relative;}#sk-container-id-1 div.sk-text-repr-fallback {display: none;}</style><div id=\"sk-container-id-1\" class=\"sk-top-container\"><div class=\"sk-text-repr-fallback\"><pre>KNeighborsClassifier()</pre><b>In a Jupyter environment, please rerun this cell to show the HTML representation or trust the notebook. <br />On GitHub, the HTML representation is unable to render, please try loading this page with nbviewer.org.</b></div><div class=\"sk-container\" hidden><div class=\"sk-item\"><div class=\"sk-estimator sk-toggleable\"><input class=\"sk-toggleable__control sk-hidden--visually\" id=\"sk-estimator-id-1\" type=\"checkbox\" checked><label for=\"sk-estimator-id-1\" class=\"sk-toggleable__label sk-toggleable__label-arrow\">KNeighborsClassifier</label><div class=\"sk-toggleable__content\"><pre>KNeighborsClassifier()</pre></div></div></div></div></div>"
      ],
      "text/plain": [
       "KNeighborsClassifier()"
      ]
     },
     "execution_count": 101,
     "metadata": {},
     "output_type": "execute_result"
    }
   ],
   "source": [
    "# Model Training\n",
    "clf = KNeighborsClassifier()\n",
    "clf.fit(X_train, y_train)\n"
   ]
  },
  {
   "cell_type": "code",
   "execution_count": 103,
   "id": "1c4f3626-5e8e-4fd5-ad4f-62bb3b8cf296",
   "metadata": {},
   "outputs": [],
   "source": [
    "# Model Assessment\n",
    "\n",
    "y_pred_class = clf.predict(X_test)\n",
    "y_pred_prob = clf.predict_proba(X_test)[:,1]"
   ]
  },
  {
   "cell_type": "code",
   "execution_count": 107,
   "id": "ee94360a-8d5a-473f-bbb4-36f65ae0e93c",
   "metadata": {},
   "outputs": [
    {
     "data": {
      "image/png": "[encoded data removed]",
      "text/plain": [
       "<Figure size 480x480 with 1 Axes>"
      ]
     },
     "metadata": {},
     "output_type": "display_data"
    }
   ],
   "source": [
    "# Confusion Matrix\n",
    "\n",
    "conf_matrix = confusion_matrix(y_test, y_pred_class)\n",
    "plt.matshow(conf_matrix, cmap = \"coolwarm\")\n",
    "plt.gca().xaxis.tick_bottom()\n",
    "plt.title(\"Confusion Matrix\")\n",
    "plt.ylabel(\"Actual Class\")\n",
    "plt.xlabel(\"Predicted Class\")\n",
    "for (i,j), corr_value in np.ndenumerate(conf_matrix):\n",
    "    plt.text(j, i, corr_value, ha = \"center\", va = \"center\", fontsize = 20)\n",
    "plt.show()"
   ]
  },
  {
   "cell_type": "code",
   "execution_count": 109,
   "id": "842b49a2-f1a0-4649-bd51-74ed19f7e366",
   "metadata": {},
   "outputs": [
    {
     "data": {
      "text/plain": [
       "0.9363057324840764"
      ]
     },
     "execution_count": 109,
     "metadata": {},
     "output_type": "execute_result"
    }
   ],
   "source": [
    "# Accuracy (the number of correct classification out of all attempted classification)\n",
    "accuracy_score(y_test, y_pred_class)"
   ]
  },
  {
   "cell_type": "code",
   "execution_count": 111,
   "id": "7f719d4d-3465-450e-afc7-7de58ac3d3c4",
   "metadata": {},
   "outputs": [
    {
     "data": {
      "text/plain": [
       "1.0"
      ]
     },
     "execution_count": 111,
     "metadata": {},
     "output_type": "execute_result"
    }
   ],
   "source": [
    "# Precision (of all observations that were predicted as positive, how many were actually positive)\n",
    "precision_score(y_test, y_pred_class)\n"
   ]
  },
  {
   "cell_type": "code",
   "execution_count": 113,
   "id": "00a10e2f-aea2-44df-b6e3-cf82daccfe02",
   "metadata": {},
   "outputs": [
    {
     "data": {
      "text/plain": [
       "0.7619047619047619"
      ]
     },
     "execution_count": 113,
     "metadata": {},
     "output_type": "execute_result"
    }
   ],
   "source": [
    "# Recall (of all positive observations, how many did we predict as positive)\n",
    "recall_score(y_test, y_pred_class)"
   ]
  },
  {
   "cell_type": "code",
   "execution_count": 115,
   "id": "96c0a1f6-0355-44c6-b7f0-ccc8dc9d95aa",
   "metadata": {},
   "outputs": [
    {
     "data": {
      "text/plain": [
       "0.8648648648648648"
      ]
     },
     "execution_count": 115,
     "metadata": {},
     "output_type": "execute_result"
    }
   ],
   "source": [
    "# F1- score (the harmonic mean of precision and recall)\n",
    "f1_score(y_test, y_pred_class)"
   ]
  },
  {
   "cell_type": "code",
   "execution_count": 117,
   "id": "eaabbb11-d41a-4847-be92-795fa38bf14d",
   "metadata": {},
   "outputs": [],
   "source": [
    "# Find the optimal of k\n",
    "\n",
    "k_list = list(range(2,25))\n",
    "accuracy_scores = []\n",
    "\n",
    "for k in k_list:\n",
    "    clf = KNeighborsClassifier(n_neighbors = k)\n",
    "    clf.fit(X_train, y_train)\n",
    "    y_pred = clf.predict(X_test)\n",
    "    accuracy = f1_score(y_test, y_pred)\n",
    "    accuracy_scores.append(accuracy)\n",
    "    \n",
    "max_accuracy = max(accuracy_scores)\n",
    "max_accuracy_idx = accuracy_scores.index(max_accuracy)\n",
    "optimal_k_value = k_list[max_accuracy_idx]"
   ]
  },
  {
   "cell_type": "code",
   "execution_count": 119,
   "id": "b60400b4-26c4-4caf-af1b-2f07f1f75d32",
   "metadata": {},
   "outputs": [
    {
     "data": {
      "image/png": "[encoded data removed]",
      "text/plain": [
       "<Figure size 640x480 with 1 Axes>"
      ]
     },
     "metadata": {},
     "output_type": "display_data"
    }
   ],
   "source": [
    "# Plot of max depths\n",
    "\n",
    "plt.plot(k_list, accuracy_scores)\n",
    "plt.scatter(optimal_k_value, max_accuracy, marker = \"*\", color = \"red\")\n",
    "plt.title(f\"Accuracy (F1 Score) by k \\n Optimal Value for k: {optimal_k_value}(Accuracy: {round(max_accuracy,4)})\")\n",
    "plt.xlabel(\"k\")\n",
    "plt.ylabel(\"Accuracy (F1 Score)\")\n",
    "plt.tight_layout()\n",
    "plt.show()"
   ]
  }
 ],
 "metadata": {
  "kernelspec": {
   "display_name": "Python 3 (ipykernel)",
   "language": "python",
   "name": "python3"
  },
  "language_info": {
   "codemirror_mode": {
    "name": "ipython",
    "version": 3
   },
   "file_extension": ".py",
   "mimetype": "text/x-python",
   "name": "python",
   "nbconvert_exporter": "python",
   "pygments_lexer": "ipython3",
   "version": "3.11.7"
  }
 },
 "nbformat": 4,
 "nbformat_minor": 5
}
